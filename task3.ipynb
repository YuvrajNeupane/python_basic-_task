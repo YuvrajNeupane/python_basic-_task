{
 "cells": [
  {
   "cell_type": "markdown",
   "metadata": {},
   "source": [
    "q1:\n",
    "ineruon \n",
    "ineruon ineruon\n",
    "ineruon ineruon ineruon\n",
    "ineruon ineruon ineruon ineruon"
   ]
  },
  {
   "cell_type": "code",
   "execution_count": 107,
   "metadata": {},
   "outputs": [
    {
     "name": "stdout",
     "output_type": "stream",
     "text": [
      "ineuron \n",
      "ineuron ineuron \n",
      "ineuron ineuron ineuron \n",
      "ineuron ineuron ineuron ineuron \n",
      "ineuron ineuron ineuron ineuron ineuron \n"
     ]
    }
   ],
   "source": [
    "num=5\n",
    "for i in range(num):\n",
    "    for j in range(i+1):\n",
    "        print('ineuron',end=' ')\n",
    "    print()"
   ]
  },
  {
   "cell_type": "code",
   "execution_count": 24,
   "metadata": {},
   "outputs": [
    {
     "name": "stdout",
     "output_type": "stream",
     "text": [
      "enter the number:5\n",
      "\n",
      "ineuron \n",
      "ineuron ineuron \n",
      "ineuron ineuron ineuron \n",
      "ineuron ineuron ineuron ineuron \n",
      "ineuron ineuron ineuron ineuron ineuron \n"
     ]
    }
   ],
   "source": [
    "num=int(input('enter the number:'))\n",
    "\n",
    "print()\n",
    "for i in range(num):\n",
    "    print('ineuron '*(i+1))"
   ]
  },
  {
   "cell_type": "raw",
   "metadata": {},
   "source": [
    "q2:\n",
    "         ineruon\n",
    "    ineruon  ineruon\n",
    "ineruon  tineruon  tineruon\n",
    "     ineruon  ineruon\n",
    "         ineruon"
   ]
  },
  {
   "cell_type": "code",
   "execution_count": 50,
   "metadata": {},
   "outputs": [
    {
     "name": "stdout",
     "output_type": "stream",
     "text": [
      "                                                                                          \n",
      "                                       neuron                                             \n",
      "                                  neuron     neuron                                       \n",
      "                            neuron     neuron     neuron                                  \n",
      "                                  neuron     neuron                                       \n",
      "                                       neuron                                             \n"
     ]
    }
   ],
   "source": [
    "for i in range(6):\n",
    "    if i <= 3:\n",
    "        n = i\n",
    "    else:\n",
    "        n = 6 - i\n",
    "    print(('neuron     '*n).center(90, ' '))"
   ]
  },
  {
   "cell_type": "code",
   "execution_count": 54,
   "metadata": {},
   "outputs": [
    {
     "name": "stdout",
     "output_type": "stream",
     "text": [
      "enter the number: 5\n",
      "     ineuronc \n",
      "    ineuronc ineuronc \n",
      "   ineuronc ineuronc ineuronc \n",
      "  ineuronc ineuronc ineuronc ineuronc \n",
      " ineuronc ineuronc ineuronc ineuronc ineuronc \n",
      "  ineuron  ineuron  ineuron  ineuron \n",
      "   ineuron  ineuron  ineuron \n",
      "    ineuron  ineuron \n",
      "     ineuron \n",
      "     \n"
     ]
    }
   ],
   "source": [
    "num=int(input('enter the number: '))\n",
    "\n",
    "for i in range(num):\n",
    "    for j in range(num-i):\n",
    "        print(' ',end='')\n",
    "    for j in range(0,i+1):\n",
    "        print('ineuronc ',end='')\n",
    "    print()\n",
    "for i in range(num):\n",
    "    for j in range(i+1):\n",
    "        print(' ',end='')\n",
    "    for j in range(num-1-i):\n",
    "        print(' ineuron ',end='')\n",
    "    print()"
   ]
  },
  {
   "cell_type": "code",
   "execution_count": 39,
   "metadata": {},
   "outputs": [],
   "source": [
    "l = [[1,2,3,4] , (2,3,4,5,6) , (3,4,5,6,7) , set([23,4,5,45,4,4,5,45,45,4,5]) , \n",
    "     {'k1' :\"sudh\" , \"k2\" :\"ineuron\",\"k3\":\"kumar\" , 3:6 , 7:8},\n",
    "     [\"ineuron\" , \"data science \"]]"
   ]
  },
  {
   "cell_type": "markdown",
   "metadata": {},
   "source": [
    "q3 : Try to extract all the list entity"
   ]
  },
  {
   "cell_type": "code",
   "execution_count": 59,
   "metadata": {},
   "outputs": [
    {
     "name": "stdout",
     "output_type": "stream",
     "text": [
      "[1, 2, 3, 4]\n",
      "['ineuron', 'data science ']\n"
     ]
    }
   ],
   "source": [
    "for i in l:\n",
    "    if type(i) == list:\n",
    "        print(i)"
   ]
  },
  {
   "cell_type": "raw",
   "metadata": {},
   "source": [
    "q4 : Try to extract all the dict enteties"
   ]
  },
  {
   "cell_type": "code",
   "execution_count": 60,
   "metadata": {},
   "outputs": [
    {
     "name": "stdout",
     "output_type": "stream",
     "text": [
      "{'k1': 'sudh', 'k2': 'ineuron', 'k3': 'kumar', 3: 6, 7: 8}\n"
     ]
    }
   ],
   "source": [
    "for i in l:\n",
    "    if type(i) == dict:\n",
    "        print(i)"
   ]
  },
  {
   "cell_type": "markdown",
   "metadata": {},
   "source": [
    "q5 : Try to extract all the tuples entities"
   ]
  },
  {
   "cell_type": "code",
   "execution_count": 61,
   "metadata": {},
   "outputs": [
    {
     "name": "stdout",
     "output_type": "stream",
     "text": [
      "(2, 3, 4, 5, 6)\n",
      "(3, 4, 5, 6, 7)\n"
     ]
    }
   ],
   "source": [
    "for i in l:\n",
    "    if type(i) == tuple:\n",
    "        print(i)"
   ]
  },
  {
   "cell_type": "raw",
   "metadata": {},
   "source": [
    "q6 : Try to extract all the numerical data it may be part of dict key and values"
   ]
  },
  {
   "cell_type": "code",
   "execution_count": 77,
   "metadata": {},
   "outputs": [],
   "source": [
    "l1=[]\n",
    "\n",
    "for i in l:\n",
    "    if type(i) == tuple or type(i) == list or type(i) == set:\n",
    "        for j in i:\n",
    "            if type(j) == int:\n",
    "                l1.append(j)\n",
    "    if type(i) == dict:\n",
    "        for k in i.items():\n",
    "            for g in k:\n",
    "                if type(g) == int:\n",
    "                    l1.append(g)"
   ]
  },
  {
   "cell_type": "code",
   "execution_count": 78,
   "metadata": {},
   "outputs": [
    {
     "data": {
      "text/plain": [
       "[1, 2, 3, 4, 2, 3, 4, 5, 6, 3, 4, 5, 6, 7, 45, 4, 5, 23, 3, 6, 7, 8]"
      ]
     },
     "execution_count": 78,
     "metadata": {},
     "output_type": "execute_result"
    }
   ],
   "source": [
    "l1"
   ]
  },
  {
   "cell_type": "raw",
   "metadata": {},
   "source": [
    "q7 : Try to give summation of all the numeric data"
   ]
  },
  {
   "cell_type": "code",
   "execution_count": 80,
   "metadata": {},
   "outputs": [
    {
     "data": {
      "text/plain": [
       "156"
      ]
     },
     "execution_count": 80,
     "metadata": {},
     "output_type": "execute_result"
    }
   ],
   "source": [
    "sum(l1)"
   ]
  },
  {
   "cell_type": "code",
   "execution_count": 83,
   "metadata": {},
   "outputs": [
    {
     "name": "stdout",
     "output_type": "stream",
     "text": [
      "[3, 6, 7, 8]\n"
     ]
    }
   ],
   "source": [
    "l2=[]\n",
    "for i in l:\n",
    "    if type(i) == dict:\n",
    "        for j in i.items():\n",
    "            for k in j:\n",
    "                if type(k) ==int:\n",
    "                    l2.append(k)\n",
    "print(l2)"
   ]
  },
  {
   "cell_type": "raw",
   "metadata": {},
   "source": [
    "q8 : Try to filter out all the odd values out all numeric data which is a part of a list"
   ]
  },
  {
   "cell_type": "code",
   "execution_count": 84,
   "metadata": {},
   "outputs": [
    {
     "data": {
      "text/plain": [
       "[1, 2, 3, 4, 2, 3, 4, 5, 6, 3, 4, 5, 6, 7, 45, 4, 5, 23, 3, 6, 7, 8]"
      ]
     },
     "execution_count": 84,
     "metadata": {},
     "output_type": "execute_result"
    }
   ],
   "source": [
    "l1"
   ]
  },
  {
   "cell_type": "code",
   "execution_count": 88,
   "metadata": {},
   "outputs": [],
   "source": [
    "l1=[]\n",
    "l2=[]\n",
    "for i in l:\n",
    "    if type(i) == tuple or type(i) == list or type(i) == set:\n",
    "        for j in i:\n",
    "            if type(j) == int:\n",
    "                l1.append(j)\n",
    "    if type(i) == dict:\n",
    "        for k in i.items():\n",
    "            for g in k:\n",
    "                if type(g) == int:\n",
    "                    l1.append(g)\n",
    "                    for q in l1:\n",
    "                        if q % 2 != 0:\n",
    "                            l2.append(q)"
   ]
  },
  {
   "cell_type": "code",
   "execution_count": 89,
   "metadata": {},
   "outputs": [
    {
     "data": {
      "text/plain": [
       "[1,\n",
       " 3,\n",
       " 3,\n",
       " 5,\n",
       " 3,\n",
       " 5,\n",
       " 7,\n",
       " 45,\n",
       " 5,\n",
       " 23,\n",
       " 3,\n",
       " 1,\n",
       " 3,\n",
       " 3,\n",
       " 5,\n",
       " 3,\n",
       " 5,\n",
       " 7,\n",
       " 45,\n",
       " 5,\n",
       " 23,\n",
       " 3,\n",
       " 1,\n",
       " 3,\n",
       " 3,\n",
       " 5,\n",
       " 3,\n",
       " 5,\n",
       " 7,\n",
       " 45,\n",
       " 5,\n",
       " 23,\n",
       " 3,\n",
       " 7,\n",
       " 1,\n",
       " 3,\n",
       " 3,\n",
       " 5,\n",
       " 3,\n",
       " 5,\n",
       " 7,\n",
       " 45,\n",
       " 5,\n",
       " 23,\n",
       " 3,\n",
       " 7]"
      ]
     },
     "execution_count": 89,
     "metadata": {},
     "output_type": "execute_result"
    }
   ],
   "source": [
    "l2"
   ]
  },
  {
   "cell_type": "raw",
   "metadata": {},
   "source": [
    "q9: Try to extract \"ineruon\" out of this data"
   ]
  },
  {
   "cell_type": "code",
   "execution_count": 105,
   "metadata": {},
   "outputs": [],
   "source": [
    "ll=[]\n",
    "\n",
    "for i in l:\n",
    "    if type(i) == list:\n",
    "        for j in i:\n",
    "            if j == 'ineuron':\n",
    "                ll.append(j)\n",
    "    if type(i) == dict:\n",
    "        for k in i.items():\n",
    "            for g in k:\n",
    "                if g=='ineuron':\n",
    "                    ll.append(g)"
   ]
  },
  {
   "cell_type": "code",
   "execution_count": 106,
   "metadata": {},
   "outputs": [
    {
     "data": {
      "text/plain": [
       "['ineuron', 'ineuron']"
      ]
     },
     "execution_count": 106,
     "metadata": {},
     "output_type": "execute_result"
    }
   ],
   "source": [
    "ll"
   ]
  },
  {
   "cell_type": "raw",
   "metadata": {},
   "source": [
    "q10 : Try to find out a number of occurances of all the data"
   ]
  },
  {
   "cell_type": "code",
   "execution_count": 4,
   "metadata": {},
   "outputs": [
    {
     "data": {
      "text/plain": [
       "[[1, 2, 3, 4],\n",
       " (2, 3, 4, 5, 6),\n",
       " (3, 4, 5, 6, 7),\n",
       " {4, 5, 23, 45},\n",
       " {'k1': 'sudh', 'k2': 'ineuron', 'k3': 'kumar', 3: 6, 7: 8},\n",
       " ['ineuron', 'data science ']]"
      ]
     },
     "execution_count": 4,
     "metadata": {},
     "output_type": "execute_result"
    }
   ],
   "source": [
    "l"
   ]
  },
  {
   "cell_type": "code",
   "execution_count": 90,
   "metadata": {},
   "outputs": [],
   "source": [
    "l1=[]\n",
    "for i in l:\n",
    "    if type(i) == list or type(i) == tuple or type(i) == set:\n",
    "        for j in i:\n",
    "            if type(j) ==int:\n",
    "                l1.append(j)\n",
    "    if type(i) == dict:\n",
    "        for g in i.items():\n",
    "            for k in g:\n",
    "                if type(k) == int:\n",
    "                    l1.append(k)"
   ]
  },
  {
   "cell_type": "code",
   "execution_count": 91,
   "metadata": {},
   "outputs": [
    {
     "name": "stdout",
     "output_type": "stream",
     "text": [
      "1 : 1\n",
      "2 : 2\n",
      "3 : 4\n",
      "4 : 4\n",
      "2 : 2\n",
      "3 : 4\n",
      "4 : 4\n",
      "5 : 3\n",
      "6 : 3\n",
      "3 : 4\n",
      "4 : 4\n",
      "5 : 3\n",
      "6 : 3\n",
      "7 : 2\n",
      "45 : 1\n",
      "4 : 4\n",
      "5 : 3\n",
      "23 : 1\n",
      "3 : 4\n",
      "6 : 3\n",
      "7 : 2\n",
      "8 : 1\n"
     ]
    }
   ],
   "source": [
    "for i in l1:\n",
    "    print(i,':', l1.count(i))"
   ]
  },
  {
   "cell_type": "code",
   "execution_count": 70,
   "metadata": {},
   "outputs": [],
   "source": [
    "l1=[]\n",
    "for i in l:\n",
    "    if type(i) == list or type(i) == tuple or type(i) == set:\n",
    "        for j in i:\n",
    "            l1.append(j)\n",
    "    if type(i) == dict:\n",
    "        for g in i.items():\n",
    "            for k in g:\n",
    "                l1.append(k)"
   ]
  },
  {
   "cell_type": "code",
   "execution_count": 71,
   "metadata": {},
   "outputs": [
    {
     "name": "stdout",
     "output_type": "stream",
     "text": [
      "1 : 1\n",
      "2 : 2\n",
      "3 : 4\n",
      "4 : 4\n",
      "2 : 2\n",
      "3 : 4\n",
      "4 : 4\n",
      "5 : 3\n",
      "6 : 3\n",
      "3 : 4\n",
      "4 : 4\n",
      "5 : 3\n",
      "6 : 3\n",
      "7 : 2\n",
      "45 : 1\n",
      "4 : 4\n",
      "5 : 3\n",
      "23 : 1\n",
      "k1 : 1\n",
      "sudh : 1\n",
      "k2 : 1\n",
      "ineuron : 2\n",
      "k3 : 1\n",
      "kumar : 1\n",
      "3 : 4\n",
      "6 : 3\n",
      "7 : 2\n",
      "8 : 1\n",
      "ineuron : 2\n",
      "data science  : 1\n"
     ]
    }
   ],
   "source": [
    "for i in l1:\n",
    "    print(i,':', l1.count(i))"
   ]
  },
  {
   "cell_type": "raw",
   "metadata": {},
   "source": [
    "q11: Try to find out number of keys in dict element."
   ]
  },
  {
   "cell_type": "code",
   "execution_count": 62,
   "metadata": {},
   "outputs": [
    {
     "name": "stdout",
     "output_type": "stream",
     "text": [
      "['k1', 'k2', 'k3', 3, 7]\n"
     ]
    }
   ],
   "source": [
    "l3=[]\n",
    "for i in l:\n",
    "    if type(i) == dict:\n",
    "        for j in i.keys():\n",
    "            l3.append(j)\n",
    "print(l3)"
   ]
  },
  {
   "cell_type": "raw",
   "metadata": {},
   "source": [
    "q12 : Try to filter out all the string data"
   ]
  },
  {
   "cell_type": "code",
   "execution_count": null,
   "metadata": {},
   "outputs": [],
   "source": [
    "l1=[]\n",
    "for i in l:\n",
    "    if type(i) == list or type(i) == tuple or type(i) == set:\n",
    "        for j in i:\n",
    "            l1.append(j)\n",
    "    if type(i) == dict:\n",
    "        for g in i.items():\n",
    "            for k in g:\n",
    "                l1.append(k)"
   ]
  },
  {
   "cell_type": "code",
   "execution_count": 77,
   "metadata": {},
   "outputs": [
    {
     "name": "stdout",
     "output_type": "stream",
     "text": [
      "['k1', 'sudh', 'k2', 'ineuron', 'k3', 'kumar', 'ineuron', 'data science ']\n"
     ]
    }
   ],
   "source": [
    "l5=[]\n",
    "for i in l:\n",
    "    if type(i) == list or type(i) == tuple or type(i) == set:\n",
    "        for j in i:\n",
    "            if type(j) == str:\n",
    "                l5.append(j)\n",
    "    if type(i) == dict:\n",
    "        for k in i.items():\n",
    "            for m in k :\n",
    "                if type(m) == str:\n",
    "                    l5.append(m)\n",
    "print(l5)"
   ]
  },
  {
   "cell_type": "code",
   "execution_count": 81,
   "metadata": {},
   "outputs": [
    {
     "name": "stdout",
     "output_type": "stream",
     "text": [
      "k1\n",
      "sudh\n",
      "k2\n",
      "ineuron\n",
      "k3\n",
      "kumar\n",
      "ineuron\n",
      "data science \n"
     ]
    }
   ],
   "source": [
    "for i in l5:\n",
    "    if type(i) == str:\n",
    "        print(i)"
   ]
  },
  {
   "cell_type": "raw",
   "metadata": {},
   "source": [
    "q13 : Try to Find  out alphanum in data"
   ]
  },
  {
   "cell_type": "code",
   "execution_count": 84,
   "metadata": {},
   "outputs": [
    {
     "name": "stdout",
     "output_type": "stream",
     "text": [
      "k1\n",
      "sudh\n",
      "k2\n",
      "ineuron\n",
      "k3\n",
      "kumar\n",
      "ineuron\n"
     ]
    }
   ],
   "source": [
    "for i in l1:\n",
    "    if type(i) == str:\n",
    "        if i.isalnum():\n",
    "            print(i)"
   ]
  },
  {
   "cell_type": "raw",
   "metadata": {},
   "source": [
    "q14 : Try to find out multiplication of all numeric value in the individual collection inside dataset"
   ]
  },
  {
   "cell_type": "code",
   "execution_count": 103,
   "metadata": {},
   "outputs": [],
   "source": [
    "import math\n",
    "mul = math.prod(l1)"
   ]
  },
  {
   "cell_type": "code",
   "execution_count": 104,
   "metadata": {},
   "outputs": [
    {
     "data": {
      "text/plain": [
       "908605071360000"
      ]
     },
     "execution_count": 104,
     "metadata": {},
     "output_type": "execute_result"
    }
   ],
   "source": [
    "mul"
   ]
  }
 ],
 "metadata": {
  "kernelspec": {
   "display_name": "Python 3",
   "language": "python",
   "name": "python3"
  },
  "language_info": {
   "codemirror_mode": {
    "name": "ipython",
    "version": 3
   },
   "file_extension": ".py",
   "mimetype": "text/x-python",
   "name": "python",
   "nbconvert_exporter": "python",
   "pygments_lexer": "ipython3",
   "version": "3.8.5"
  }
 },
 "nbformat": 4,
 "nbformat_minor": 4
}
